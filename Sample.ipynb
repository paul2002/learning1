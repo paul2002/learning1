{
 "cells": [
  {
   "cell_type": "markdown",
   "id": "329a9f5b-5e48-4c5d-96f6-f091c73e654b",
   "metadata": {},
   "source": [
    "## Walkthru sample notebook"
   ]
  },
  {
   "cell_type": "markdown",
   "id": "918850df-5253-4a74-b239-c29a9b5c440d",
   "metadata": {},
   "source": [
    "Here is how I calculate `1+1`:"
   ]
  },
  {
   "cell_type": "code",
   "execution_count": 2,
   "id": "e30bd136-4342-40d3-b01e-1daf228d9fd6",
   "metadata": {},
   "outputs": [
    {
     "data": {
      "text/plain": [
       "2"
      ]
     },
     "execution_count": 2,
     "metadata": {},
     "output_type": "execute_result"
    }
   ],
   "source": [
    "1+1"
   ]
  },
  {
   "cell_type": "code",
   "execution_count": 3,
   "id": "51d036c6-e316-4974-ae15-42f50787af7d",
   "metadata": {},
   "outputs": [],
   "source": [
    "from numpy import *"
   ]
  },
  {
   "cell_type": "markdown",
   "id": "b05445ac-0250-4529-a455-64748d12f19a",
   "metadata": {},
   "source": [
    "Here is how I calsulate `sin`:"
   ]
  },
  {
   "cell_type": "code",
   "execution_count": 4,
   "id": "98b4bce1-f67f-49e2-b9cd-410681b4f8d3",
   "metadata": {},
   "outputs": [
    {
     "data": {
      "text/plain": [
       "array([0.84147098, 1.        ])"
      ]
     },
     "execution_count": 4,
     "metadata": {},
     "output_type": "execute_result"
    }
   ],
   "source": [
    "a = array([1.0, pi/2])\n",
    "sin(a)"
   ]
  },
  {
   "cell_type": "code",
   "execution_count": null,
   "id": "af5ebeb1-4ca0-4840-ba63-c5e880efaddf",
   "metadata": {},
   "outputs": [],
   "source": []
  }
 ],
 "metadata": {
  "kernelspec": {
   "display_name": "Python 3 (ipykernel)",
   "language": "python",
   "name": "python3"
  },
  "language_info": {
   "codemirror_mode": {
    "name": "ipython",
    "version": 3
   },
   "file_extension": ".py",
   "mimetype": "text/x-python",
   "name": "python",
   "nbconvert_exporter": "python",
   "pygments_lexer": "ipython3",
   "version": "3.10.14"
  }
 },
 "nbformat": 4,
 "nbformat_minor": 5
}
